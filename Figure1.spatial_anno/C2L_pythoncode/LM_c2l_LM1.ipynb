{
 "cells": [
  {
   "cell_type": "code",
   "execution_count": null,
   "id": "f4ad0e83-a70f-42cc-8c52-4b35a88d324c",
   "metadata": {},
   "outputs": [],
   "source": [
    "import numpy as np\n",
    "import scanpy as sc\n",
    "import cell2location\n",
    "import matplotlib.pyplot as plt\n",
    "import matplotlib as mpl\n",
    "from matplotlib import rcParams\n",
    "rcParams['pdf.fonttype'] = 42"
   ]
  },
  {
   "cell_type": "code",
   "execution_count": null,
   "id": "77513c8e-56fa-4571-b334-616d55999413",
   "metadata": {},
   "outputs": [],
   "source": [
    "import mygene\n",
    "import scanpy as sc"
   ]
  },
  {
   "cell_type": "code",
   "execution_count": null,
   "id": "0d93cd53-ebc9-41ef-a609-2e4d72ee71c5",
   "metadata": {},
   "outputs": [],
   "source": [
    "adata_vis = sc.read_visium(\"/root/data/LM_1\")"
   ]
  },
  {
   "cell_type": "code",
   "execution_count": null,
   "id": "0ac3a5f9-5bf9-43b1-add7-0dc3aa2b8e3c",
   "metadata": {},
   "outputs": [],
   "source": [
    "adata_vis.obs['sample'] = list(adata_vis.uns['spatial'].keys())[0]"
   ]
  },
  {
   "cell_type": "raw",
   "id": "966aa837-bdbc-4e7a-abc9-94f9f0f70db5",
   "metadata": {},
   "source": [
    "adata_vis.var_names"
   ]
  },
  {
   "cell_type": "code",
   "execution_count": null,
   "id": "db08f8d3-506b-4b13-8b90-fcc54c4a2715",
   "metadata": {},
   "outputs": [],
   "source": [
    "adata_vis.var['SYMBOL'] = adata_vis.var_names"
   ]
  },
  {
   "cell_type": "code",
   "execution_count": null,
   "id": "e206a69b-2aa8-4070-b0da-563c1158846a",
   "metadata": {},
   "outputs": [],
   "source": [
    "#adata_vis.var.set_index('gene_ids', drop=True, inplace=True)"
   ]
  },
  {
   "cell_type": "code",
   "execution_count": null,
   "id": "82e894bc-1b8d-4fb0-a90d-b9d5ee1c0552",
   "metadata": {},
   "outputs": [],
   "source": [
    "adata_vis.var"
   ]
  },
  {
   "cell_type": "code",
   "execution_count": null,
   "id": "f765e209-afa3-45b4-9c54-7216f9b5ccce",
   "metadata": {},
   "outputs": [],
   "source": [
    "adata_ref = sc.read(\"./data/LM_scRNA_for_C2L.h5ad\")"
   ]
  },
  {
   "cell_type": "code",
   "execution_count": null,
   "id": "7480c8c3-423e-4bb2-b5a5-3ff70057057d",
   "metadata": {},
   "outputs": [],
   "source": [
    "adata_ref.var['SYMBOL'] = adata_ref.var.index"
   ]
  },
  {
   "cell_type": "code",
   "execution_count": null,
   "id": "9b756d03-179c-4405-8b57-0c7ed18bff40",
   "metadata": {},
   "outputs": [],
   "source": [
    "adata_ref.var.index"
   ]
  },
  {
   "cell_type": "code",
   "execution_count": null,
   "id": "e3c7aea0-2ed2-4e64-96bd-40fb8858702a",
   "metadata": {},
   "outputs": [],
   "source": [
    "# rename 'GeneID-2' as necessary for your data\n",
    "#adata_ref.var.set_index('GeneID-2', drop=True, inplace=True)\n",
    "\n",
    "# delete unnecessary raw slot (to be removed in a future version of the tutorial)\n",
    "#del adata_ref.raw"
   ]
  },
  {
   "cell_type": "code",
   "execution_count": null,
   "id": "429f9951-4a39-40af-885d-ea403f18534f",
   "metadata": {},
   "outputs": [],
   "source": [
    "adata_ref.var.set_index"
   ]
  },
  {
   "cell_type": "code",
   "execution_count": null,
   "id": "846b1cd9-e5fa-43c4-b153-17211eae2d14",
   "metadata": {},
   "outputs": [],
   "source": [
    "adata_ref.var"
   ]
  },
  {
   "cell_type": "code",
   "execution_count": null,
   "id": "f62a48e3-214d-4716-bcc1-6d54f6688d12",
   "metadata": {},
   "outputs": [],
   "source": [
    "results_folder = './results/LM/'\n",
    "# create paths and names to results folders for reference regression and cell2location models\n",
    "ref_run_name = f'{results_folder}/reference_signatures'\n",
    "run_name = f'{results_folder}/cell2location_map'"
   ]
  },
  {
   "cell_type": "code",
   "execution_count": null,
   "id": "fb78ab5c-a412-48c8-a2fb-4ced8c82dac5",
   "metadata": {},
   "outputs": [],
   "source": [
    "adata_vis.var"
   ]
  },
  {
   "cell_type": "code",
   "execution_count": null,
   "id": "b3ad2ecb-5293-4d3d-b912-02a3eaa6e3c1",
   "metadata": {},
   "outputs": [],
   "source": [
    "#去除空间转录组数据中线粒体基因的影响\n",
    "adata_vis.var['MT_gene'] = [gene.startswith('MT-') for gene in adata_vis.var['SYMBOL']]\n",
    "adata_vis.obsm['MT'] = adata_vis[:,adata_vis.var['MT_gene'].values].X.toarray()\n",
    "adata_vis = adata_vis[:, ~adata_vis.var['MT_gene'].values]"
   ]
  },
  {
   "cell_type": "code",
   "execution_count": null,
   "id": "40fe6ef7-7312-4efa-bd4c-37e9d244cc10",
   "metadata": {},
   "outputs": [],
   "source": [
    "adata_ref.var_names"
   ]
  },
  {
   "cell_type": "code",
   "execution_count": null,
   "id": "64fb0812-c37c-49c2-bd41-3ef26124fe32",
   "metadata": {
    "scrolled": true
   },
   "outputs": [],
   "source": [
    "#过滤低表达基因\n",
    "from cell2location.utils.filtering import filter_genes\n",
    "selected = filter_genes(adata_ref, cell_count_cutoff=5, cell_percentage_cutoff2=0.03, nonz_mean_cutoff=1.12)\n",
    "adata_ref = adata_ref[:, selected].copy()"
   ]
  },
  {
   "cell_type": "code",
   "execution_count": null,
   "id": "437dd478-1f44-4ec5-b07a-1554994962f9",
   "metadata": {
    "scrolled": true
   },
   "outputs": [],
   "source": [
    "adata_ref.obs"
   ]
  },
  {
   "cell_type": "code",
   "execution_count": null,
   "id": "b4975ad8-6d80-44a8-bf38-521f866a7464",
   "metadata": {
    "scrolled": true
   },
   "outputs": [],
   "source": [
    "#adata_ref.obs\n",
    "cell2location.models.RegressionModel.setup_anndata(adata=adata_ref,\n",
    "                           batch_key='orig.ident',\n",
    "                           labels_key='Subset'\n",
    "                           #categorical_covariate_keys=['Method']\n",
    "                          )"
   ]
  },
  {
   "cell_type": "code",
   "execution_count": null,
   "id": "be78fac8-4c92-4c4b-9188-7bc723be0b3b",
   "metadata": {},
   "outputs": [],
   "source": [
    "#cell2location.models.RegressionModel.setup_anndata(adata=adata_ref,\n",
    "                        # 10X reaction / sample / batch\n",
    "                       # batch_key='Sample',\n",
    "                        # cell type, covariate used for constructing signatures\n",
    "                       # labels_key='Subset'\n",
    "                        # multiplicative technical effects (platform, 3' vs 5', donor effect)\n",
    "                        #categorical_covariate_keys=['Method']\n",
    "                       #)"
   ]
  },
  {
   "cell_type": "code",
   "execution_count": null,
   "id": "6243263b-6526-441f-a70f-2f5b412218f2",
   "metadata": {
    "scrolled": true
   },
   "outputs": [],
   "source": [
    "from cell2location.models import RegressionModel\n",
    "mod = RegressionModel(adata_ref)\n",
    "mod.view_anndata_setup()"
   ]
  },
  {
   "cell_type": "code",
   "execution_count": null,
   "id": "e1925f3a-e920-4c69-8b34-8bad0d16fcfa",
   "metadata": {},
   "outputs": [],
   "source": [
    "#训练模型，要在数据上实现收敛，需要增加max_epochs参数。如果服务器有GPU，将use_gpu设置成True将显著加快训练速度。\n",
    "mod.train(max_epochs=150, use_gpu=True)\n",
    "mod.plot_history(20)"
   ]
  },
  {
   "cell_type": "code",
   "execution_count": null,
   "id": "bb025c0c-c7a8-48bd-98c4-ccbfb78aeecf",
   "metadata": {},
   "outputs": [],
   "source": [
    "mod.plot_history(10)\n",
    "plt.legend(labels=['full data training'])"
   ]
  },
  {
   "cell_type": "code",
   "execution_count": null,
   "id": "8f254958-29fe-45ab-a12c-6bfeb4d54878",
   "metadata": {},
   "outputs": [],
   "source": [
    "# In this section, we export the estimated cell abundance (summary of the posterior distribution).\n",
    "#基于后验分布，计算基因在cluster中的表达\n",
    "adata_ref = mod.export_posterior(\n",
    "    adata_ref, sample_kwargs={'num_samples': 1000, 'batch_size': 2500, 'use_gpu': True}\n",
    ")"
   ]
  },
  {
   "cell_type": "code",
   "execution_count": null,
   "id": "d0e0e6e3-91e3-4456-8312-c4ae74a9e555",
   "metadata": {
    "scrolled": true
   },
   "outputs": [],
   "source": [
    "# Save model\n",
    "mod.save(f\"{ref_run_name}\", overwrite=True)\n",
    "mod.plot_QC()"
   ]
  },
  {
   "cell_type": "markdown",
   "id": "2998d25a-031e-4efa-8512-71aff08b78fc",
   "metadata": {
    "scrolled": true
   },
   "source": [
    "# Save anndata object with results\n",
    "adata_file = f\"{ref_run_name}/sc.h5ad\"\n",
    "#adata_ref.write(adata_file)\n",
    "adata_file"
   ]
  },
  {
   "cell_type": "code",
   "execution_count": null,
   "id": "698df421-bdb2-4904-b6a0-773cfb31b244",
   "metadata": {},
   "outputs": [],
   "source": [
    "ref_run_name"
   ]
  },
  {
   "cell_type": "code",
   "execution_count": null,
   "id": "5034a835-7355-4d06-add0-0e61696f3882",
   "metadata": {},
   "outputs": [],
   "source": [
    "#adata_file = f\"{ref_run_name}/sc.h5ad\"\n",
    "#adata_ref = sc.read_h5ad(adata_file)\n",
    "mod = cell2location.models.RegressionModel.load(f\"{ref_run_name}\", adata_ref)"
   ]
  },
  {
   "cell_type": "code",
   "execution_count": null,
   "id": "9a64489e-96b3-4509-b27e-ce42c649d04d",
   "metadata": {},
   "outputs": [],
   "source": [
    "#负二项式回归模型的所有参数都导出到参考 anndata 对象中，但是对于空间映射，我们只需要每种细胞类型中每个基因的估计表达。在这里，我们从标准输出中提取：\n",
    "#因为批次的问题，计算出来的特征基因的表达和平均表达并不相同\n",
    "if 'means_per_cluster_mu_fg' in adata_ref.varm.keys():\n",
    "    inf_aver = adata_ref.varm['means_per_cluster_mu_fg'][[f'means_per_cluster_mu_fg_{i}' for i in adata_ref.uns['mod']['factor_names']]].copy()\n",
    "else:\n",
    "    inf_aver = adata_ref.var[[f'means_per_cluster_mu_fg_{i}' for i in adata_ref.uns['mod']['factor_names']]].copy()\n",
    "\n",
    "inf_aver.columns = adata_ref.uns['mod']['factor_names']\n",
    "inf_aver.iloc[0:5, 0:5]"
   ]
  },
  {
   "cell_type": "code",
   "execution_count": null,
   "id": "5ed30892-1638-4f78-8b46-7345a7334cbe",
   "metadata": {
    "scrolled": true
   },
   "outputs": [],
   "source": [
    "#筛选交集基因\n",
    "# find shared genes and subset both anndata and reference signatures\n",
    "intersect = np.intersect1d(adata_vis.var_names, inf_aver.index)"
   ]
  },
  {
   "cell_type": "code",
   "execution_count": null,
   "id": "8803656a-a86d-4b1d-a9e3-5c4a9f7dcb8a",
   "metadata": {},
   "outputs": [],
   "source": [
    "inf_aver = inf_aver.loc[intersect, :].copy()"
   ]
  },
  {
   "cell_type": "code",
   "execution_count": null,
   "id": "6c94a5c6-64ba-425d-83e2-c0a39c3d06a7",
   "metadata": {},
   "outputs": [],
   "source": [
    "inf_aver = inf_aver[inf_aver.index.isin(intersect)].copy()"
   ]
  },
  {
   "cell_type": "code",
   "execution_count": null,
   "id": "5f518afc-bc0f-4e87-bb17-5545c645d4f4",
   "metadata": {},
   "outputs": [],
   "source": [
    "#print(\"First few var_names in adata_vis:\", adata_vis.var_names[:5])\n",
    "# 检查 intersect 中的元素是否都在 adata_vis.var_names 中\n",
    "#if not all(elem in adata_vis.var_names for elem in intersect):\n",
    "   # print(\"Not all elements in 'intersect' are in 'adata_vis.var_names'.\")"
   ]
  },
  {
   "cell_type": "code",
   "execution_count": null,
   "id": "1657b9b9-0494-4d0b-bc18-5e31fe5c9a11",
   "metadata": {},
   "outputs": [],
   "source": [
    "adata_vis=  adata_vis[:, adata_vis.var_names.isin(intersect)].copy()### 鉴定一致性"
   ]
  },
  {
   "cell_type": "code",
   "execution_count": null,
   "id": "6664efa3-69e4-400d-9303-eadd8d708498",
   "metadata": {},
   "outputs": [],
   "source": [
    "# 找出重复基因的位置（保留第一个出现的位置，去除后续的重复）\n",
    "duplicates_to_remove = adata_vis.var_names.duplicated(keep='first')\n",
    "# 仅保留非重复的基因\n",
    "adata_vis = adata_vis[:, ~duplicates_to_remove].copy()\n",
    "# 检查是否还存在重复\n",
    "print(adata_vis.var_names.duplicated().any())"
   ]
  },
  {
   "cell_type": "code",
   "execution_count": null,
   "id": "c9759b3b-65f5-47fc-9f77-d638347518d6",
   "metadata": {},
   "outputs": [],
   "source": [
    "adata_vis= adata_vis[:,intersect].copy()\n",
    "inf_aver = inf_aver.loc[intersect, :].copy()"
   ]
  },
  {
   "cell_type": "code",
   "execution_count": null,
   "id": "ce1687ba-8d87-434c-84ac-972fae9c669f",
   "metadata": {
    "editable": true,
    "scrolled": true,
    "slideshow": {
     "slide_type": ""
    },
    "tags": []
   },
   "outputs": [],
   "source": [
    "# prepare anndata for cell2location model\n",
    "cell2location.models.Cell2location.setup_anndata(adata=adata_vis, batch_key='sample')"
   ]
  },
  {
   "cell_type": "code",
   "execution_count": null,
   "id": "51009232-d824-42c6-af81-16360c151c7a",
   "metadata": {
    "scrolled": true
   },
   "outputs": [],
   "source": [
    "#N_cells_per_location：每个点包含的细胞数量\n",
    "#detection_alpha：如果切片间或者批次间RNA检测存在大的变异性，detection_alpha设置为20，反之可以设置为200。\n",
    "# create and train the model\n",
    "mod = cell2location.models.Cell2location(\n",
    "    adata_vis, cell_state_df=inf_aver,\n",
    "    # the expected average cell abundance: tissue-dependent\n",
    "    # hyper-prior which can be estimated from paired histology:\n",
    "    N_cells_per_location=30,\n",
    "    # hyperparameter controlling normalisation of\n",
    "    # within-experiment variation in RNA detection:\n",
    "    detection_alpha=20\n",
    ")\n",
    "mod.view_anndata_setup()"
   ]
  },
  {
   "cell_type": "code",
   "execution_count": null,
   "id": "aef69d09-ef62-44f7-b1be-cfed243911f4",
   "metadata": {},
   "outputs": [],
   "source": [
    "mod.train(max_epochs=3000,\n",
    "          # train using full data (batch_size=None)\n",
    "          batch_size=None,\n",
    "          # use all data points in training because\n",
    "          # we need to estimate cell abundance at all locations\n",
    "          train_size=1,\n",
    "          use_gpu=True,\n",
    "         )"
   ]
  },
  {
   "cell_type": "code",
   "execution_count": null,
   "id": "b3ba343c-0178-4db4-abc4-87e71f78d1ef",
   "metadata": {},
   "outputs": [],
   "source": [
    "# plot ELBO loss history during training, removing first 100 epochs from the plot\n",
    "mod.plot_history(1000)\n",
    "plt.legend(labels=['full data training']);"
   ]
  },
  {
   "cell_type": "code",
   "execution_count": null,
   "id": "497d7132-347f-4b4d-abfe-b99a773f657a",
   "metadata": {
    "scrolled": true
   },
   "outputs": [],
   "source": [
    "# In this section, we export the estimated cell abundance (summary of the posterior distribution).\n",
    "adata_vis = mod.export_posterior(\n",
    "    adata_vis, sample_kwargs={'num_samples': 1000, 'batch_size': mod.adata.n_obs, 'use_gpu': True}\n",
    ")\n",
    "\n",
    "# Save model\n",
    "mod.save(f\"{run_name}\", overwrite=True)\n",
    "\n",
    "# mod = cell2location.models.Cell2location.load(f\"{run_name}\", adata_vis)"
   ]
  },
  {
   "cell_type": "code",
   "execution_count": null,
   "id": "14f9383b-6165-4386-b019-82c7848db1aa",
   "metadata": {},
   "outputs": [],
   "source": [
    "# Save anndata object with results\n",
    "adata_file = f\"{run_name}/sp.h5ad\"\n",
    "adata_vis.write(adata_file)\n",
    "adata_file"
   ]
  },
  {
   "cell_type": "code",
   "execution_count": null,
   "id": "59b9b3f5-cda5-4b17-aebc-a691c0d73a3e",
   "metadata": {},
   "outputs": [],
   "source": [
    "adata_file = f\"{run_name}/sp.h5ad\"\n",
    "adata_vis = sc.read_h5ad(adata_file)\n",
    "mod = cell2location.models.Cell2location.load(f\"{run_name}\", adata_vis)"
   ]
  },
  {
   "cell_type": "code",
   "execution_count": null,
   "id": "d16a683c-f27b-4d7e-b347-67e404b10d0c",
   "metadata": {},
   "outputs": [],
   "source": [
    "#当对多个空间批次进行整合时，以及当使用载玻片中检测到的RNA存在很大差异的数据集时（这不能用组织学中的高细胞密度来解释），\n",
    "#重要的是要评估cell2location是否使这些效应归一化。您期望在不同批次之间看到相似的总细胞丰度，但不同的 RNA 检测灵敏度（均由 cell2location 估计）。您期望总细胞丰度反映组织学中的高细胞密度。"
   ]
  },
  {
   "cell_type": "code",
   "execution_count": null,
   "id": "70d6d382-4e9a-48e1-a9fb-3d17b41fbd9e",
   "metadata": {
    "scrolled": true
   },
   "outputs": [],
   "source": [
    "# add 5% quantile, representing confident cell abundance, 'at least this amount is present',\n",
    "# to adata.obs with nice names for plotting\n",
    "adata_vis.obs[adata_vis.uns['mod']['factor_names']] = adata_vis.obsm['q05_cell_abundance_w_sf']"
   ]
  },
  {
   "cell_type": "code",
   "execution_count": null,
   "id": "10a18328-4c0f-4c7d-a3ee-0ec520ff4c9b",
   "metadata": {},
   "outputs": [],
   "source": [
    "adata_vis.obsm['q05_cell_abundance_w_sf']"
   ]
  },
  {
   "cell_type": "code",
   "execution_count": null,
   "id": "e2d220a2-3dd0-48d3-a242-972dfed1841f",
   "metadata": {},
   "outputs": [],
   "source": [
    "adata_vis.obs.to_csv('LM1_file.csv')"
   ]
  },
  {
   "cell_type": "code",
   "execution_count": null,
   "id": "7b5d1664-668d-4ef8-83bb-3259c80bc6e5",
   "metadata": {},
   "outputs": [],
   "source": [
    "#print(adata_vis.obs['batch_key'].unique())\n",
    "print(adata_vis.uns[\"spatial\"].keys())"
   ]
  },
  {
   "cell_type": "code",
   "execution_count": null,
   "id": "625d392d-70a5-414f-9f43-b098952ac8bc",
   "metadata": {},
   "outputs": [],
   "source": [
    "# select one slide\n",
    "from cell2location.utils import select_slide\n",
    "slide = select_slide(adata_vis, 'gan1')"
   ]
  },
  {
   "cell_type": "code",
   "execution_count": null,
   "id": "939f658a-8b53-474c-9fd6-988355975300",
   "metadata": {},
   "outputs": [],
   "source": [
    "print(slide.obsm[\"spatial\"][:5])  # 假设坐标数据存储在 obsm[\"spatial\"]"
   ]
  },
  {
   "cell_type": "code",
   "execution_count": null,
   "id": "ce6a702a-65e4-42a6-a21b-29f23676361e",
   "metadata": {},
   "outputs": [],
   "source": [
    "slide.obsm['spatial'] = np.array(slide.obsm['spatial'], dtype=float)"
   ]
  },
  {
   "cell_type": "code",
   "execution_count": null,
   "id": "5380d01f-206f-4b69-a41c-ce987f379be5",
   "metadata": {},
   "outputs": [],
   "source": [
    "# plot in spatial coordinates\n",
    "with mpl.rc_context({'axes.facecolor': 'black', 'figure.figsize': [4.5, 5]}):\n",
    "    sc.pl.spatial(slide, cmap='magma',\n",
    "                  color=['B/Plasma', 'Endothelial', 'Epithelial', 'Fibroblasts', 'Myeloid', 'T/ILC'],\n",
    "                  ncols=3, size=1.5,\n",
    "                  img_key='hires',\n",
    "                  vmin=0, vmax='p99.2'\n",
    "                 )"
   ]
  },
  {
   "cell_type": "code",
   "execution_count": null,
   "id": "36d1e8ad-caeb-462a-826b-d2316483737b",
   "metadata": {},
   "outputs": [],
   "source": [
    "plt.show()"
   ]
  },
  {
   "cell_type": "code",
   "execution_count": null,
   "id": "8bab6672-6dab-48b3-8158-7f15469849e8",
   "metadata": {},
   "outputs": [],
   "source": [
    "print(slide.obsm[\"spatial\"][:5])  # 假设坐标数据存储在 obsm[\"spatial\"]"
   ]
  },
  {
   "cell_type": "code",
   "execution_count": null,
   "id": "066b6c2d-681b-421b-b9ff-3a6513833373",
   "metadata": {},
   "outputs": [],
   "source": [
    "# Now we use cell2location plotter that allows showing multiple cell types in one panel\n",
    "from cell2location.plt import plot_spatial\n",
    "\n",
    "# select up to 4 clusters\n",
    "clust_labels = ['Fibroblasts', 'Myeloid', 'T/ILC','B/Plasma']\n",
    "clust_col = ['' + str(i) for i in clust_labels] # in case column names differ from labels\n",
    "\n",
    "slide = select_slide(adata_vis, 'gan1')\n",
    "slide.obsm['spatial'] = np.array(slide.obsm['spatial'], dtype=float)\n"
   ]
  },
  {
   "cell_type": "code",
   "execution_count": null,
   "id": "5d3daeb3-545f-4660-84ba-284523cdad0d",
   "metadata": {
    "scrolled": true
   },
   "outputs": [],
   "source": [
    "cell2location.plt.plot_spatial(adata=slide,\n",
    "                               color=clust_col ,\n",
    "                               img_key='hires', \n",
    "                               labels=clust_labels,\n",
    "        show_img=True,\n",
    "        # 'fast' (white background) or 'dark_background'\n",
    "        style='dark_background',\n",
    "        # limit color scale at 99.2% quantile of cell abundance\n",
    "        max_color_quantile=0.992,\n",
    "        # size of locations (adjust depending on figure size)\n",
    "        circle_diameter=4,\n",
    "        colorbar_position='right')"
   ]
  },
  {
   "cell_type": "code",
   "execution_count": null,
   "id": "0e74d240-9b0a-4eb7-936a-3f553d104589",
   "metadata": {},
   "outputs": [],
   "source": [
    "clust_col = {\n",
    "    \"Fibroblasts\": \"purple\",  # 替换为您想要的颜色\n",
    "    \"Myeloid\": \"yellow\",\n",
    "    # 继续为其他群集指定颜色...\n",
    "    'T/ILC':\"red\",\n",
    "    'B/Plasma':'green'\n",
    "}"
   ]
  },
  {
   "cell_type": "code",
   "execution_count": null,
   "id": "9fa15343-dcc7-4fea-96a1-e219eaea7919",
   "metadata": {},
   "outputs": [],
   "source": [
    "with mpl.rc_context({'figure.figsize': (15, 15)}):\n",
    "    fig = plot_spatial(\n",
    "        adata=slide,\n",
    "        # labels to show on a plot\n",
    "        color=clust_col,  # 您的细胞类型列表\n",
    "        #reorder_cmap=reorder_cmap,\n",
    "        labels=clust_labels,\n",
    "        show_img=True,\n",
    "        # 'fast' (white background) or 'dark_background'\n",
    "        style='dark_background',\n",
    "        # limit color scale at 99.2% quantile of cell abundance\n",
    "        max_color_quantile=0.992,\n",
    "        # size of locations (adjust depending on figure size)\n",
    "        circle_diameter=6,\n",
    "        colorbar_position='right'\n",
    "    )"
   ]
  },
  {
   "cell_type": "code",
   "execution_count": null,
   "id": "1c0dd391-9720-4a55-ac55-59d343fe65ae",
   "metadata": {},
   "outputs": [],
   "source": [
    "# Compute expected expression per cell type\n",
    "expected_dict = mod.module.model.compute_expected_per_cell_type(\n",
    "    mod.samples[\"post_sample_q05\"], mod.adata_manager\n",
    ")\n",
    "\n",
    "# Add to anndata layers\n",
    "for i, n in enumerate(mod.factor_names_):\n",
    "    adata_vis.layers[n] = expected_dict['mu'][i]\n",
    "\n",
    "# Save anndata object with results\n",
    "adata_file = f\"{run_name}/sp.h5ad\"\n",
    "adata_vis.write(adata_file)\n",
    "adata_file"
   ]
  },
  {
   "cell_type": "code",
   "execution_count": null,
   "id": "00a2d107-4563-49b0-a3aa-20c8bacc10ce",
   "metadata": {},
   "outputs": [],
   "source": [
    "# list cell types and genes for plotting\n",
    "ctypes = ['B/Plasma', 'Endothelial', 'Epithelial', 'Fibroblasts', 'Myeloid', 'T/ILC']\n",
    "genes = ['CD3D', 'CR2']\n",
    "\n",
    "with mpl.rc_context({'axes.facecolor':  'black'}):\n",
    "    # select one slide\n",
    "    slide = select_slide(adata_vis, 'gan1')\n",
    "    slide.obsm['spatial'] = np.array(slide.obsm['spatial'], dtype=float)\n",
    "    from tutorial_utils import plot_genes_per_cell_type\n",
    "    plot_genes_per_cell_type(slide, genes, ctypes);"
   ]
  }
 ],
 "metadata": {
  "kernelspec": {
   "display_name": "Environment (cell2loc_env)",
   "language": "python",
   "name": "cell2loc_env"
  },
  "language_info": {
   "codemirror_mode": {
    "name": "ipython",
    "version": 3
   },
   "file_extension": ".py",
   "mimetype": "text/x-python",
   "name": "python",
   "nbconvert_exporter": "python",
   "pygments_lexer": "ipython3",
   "version": "3.11.5"
  }
 },
 "nbformat": 4,
 "nbformat_minor": 5
}
